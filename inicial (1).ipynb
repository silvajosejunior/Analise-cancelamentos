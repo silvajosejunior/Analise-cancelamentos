{
 "cells": [
  {
   "cell_type": "markdown",
   "metadata": {},
   "source": [
    "# Python Insights - Analisando Dados com Python\n",
    "\n",
    "### Case - Cancelamento de Clientes\n",
    "\n",
    "Você foi contratado por uma empresa com mais de 800 mil clientes para um projeto de Dados. Recentemente a empresa percebeu que da sua base total de clientes, a maioria são clientes inativos, ou seja, que já cancelaram o serviço.\n",
    "\n",
    "Precisando melhorar seus resultados ela quer conseguir entender os principais motivos desses cancelamentos e quais as ações mais eficientes para reduzir esse número.\n",
    "\n"
   ]
  },
  {
   "cell_type": "markdown",
   "metadata": {},
   "source": [
    "Inicio Instalar as Bibiotecas: Pandas,Numpy,Openpyxl,NBformat,Ipykernel,Ploty.b"
   ]
  },
  {
   "cell_type": "code",
   "execution_count": 1,
   "metadata": {},
   "outputs": [],
   "source": [
    "# Passo 1:Importar a base de Dados\n",
    "\n",
    "import pandas as pd\n",
    "tabela = pd.read_csv(\"cancelamentos_sample.csv\")"
   ]
  },
  {
   "cell_type": "code",
   "execution_count": null,
   "metadata": {},
   "outputs": [],
   "source": [
    "# Passo 2: Visualizar base de dados\n",
    "## excluindo colunas inuteis\n",
    "\n",
    "tabela = tabela.drop(columns=\"CustomerID\") # excluindo colunas inuteis\n",
    "display(tabela)\n"
   ]
  },
  {
   "cell_type": "code",
   "execution_count": null,
   "metadata": {},
   "outputs": [],
   "source": [
    "# Passo 3: Corrigir problemas da base de dados\n",
    "\n",
    "## Identificar problemas\n",
    "\n",
    "display(tabela.info())\n",
    "\n",
    "\n",
    "## dropna exclui todas as linhas vazias\n",
    "\n",
    "tabela = tabela.dropna()\n",
    "\n",
    "display(tabela.info())\n",
    "\n"
   ]
  },
  {
   "cell_type": "code",
   "execution_count": null,
   "metadata": {},
   "outputs": [],
   "source": [
    "# Passo 4: Análise inicial dos cancelamentos\n",
    "\n",
    "# 0.0 -->  Falso\n",
    "# 1.0 -->  Verdadeiro\n",
    "\n",
    "# quantas pessoas cancelaram e quantas não cancelaram\n",
    "display(tabela[\"cancelou\"].value_counts())\n",
    "\n",
    "# em percentual\n",
    "#display(tabela[\"cancelou\"].value_counts(normalize=True))\n",
    "display(tabela[\"cancelou\"].value_counts(normalize=True).map(\"{:.1%}\".format))\n",
    "\n"
   ]
  },
  {
   "cell_type": "code",
   "execution_count": null,
   "metadata": {},
   "outputs": [],
   "source": [
    "# Passo 4: Análise inicial dos cancelamentos\n",
    "\n",
    "# 0.0 -->  Falso\n",
    "# 1.0 -->  Verdadeiro\n",
    "\n",
    "# quantas pessoas cancelaram e quantas não cancelaram\n",
    "display(tabela[\"cancelou\"].value_counts())\n",
    "\n",
    "# em percentual\n",
    "#display(tabela[\"cancelou\"].value_counts(normalize=True))\n",
    "display(tabela[\"cancelou\"].value_counts(normalize=True).map(\"{:.1%}\".format))\n",
    "\n"
   ]
  },
  {
   "cell_type": "code",
   "execution_count": null,
   "metadata": {},
   "outputs": [],
   "source": [
    "# Passo 5: Análise das causas dos cancelamentos (como as colunas da base impactam no cancelamento)\n",
    "# gráficos/dashboards\n",
    "# !pip install plotly\n",
    "\n",
    "import plotly.express as px\n",
    "\n",
    "# criar o grafico\n",
    "\n",
    "for coluna in tabela.columns: # Faz um loop em todas as colunas\n",
    "    grafico = px.histogram(tabela, x=coluna, color=\"cancelou\", text_auto=True)\n",
    "\n",
    "# exibir o grafico\n",
    "    grafico.show()\n",
    "\n",
    "\n",
    "# Conclusões das Analises:\n",
    "\n",
    "# clientes do contrato mensal TODOS cancelam(evitar contratos mensais), reduzão de 10% nos cancelamentos\n",
    "    ## ofercer desconto nos planos anuais e trimestrais\n",
    "\n",
    "# clientes que ligam mais do que 4 vezes para o call center, cancelam\n",
    "    ## criar um processo para resolver o problema do cliente em no máximo 3 ligações ao call center,reduzirão em 30% de cancelamentos\n",
    "\n",
    "# clientes que atrasaram mais de 20 dias, cancelaram\n",
    "    ## política de resolver atrasos em até 15 dias, acionar um alarme  (equipe financeira), reduzão de 38% de cancelamento\n",
    "\n",
    "                              \n",
    "\n",
    "                    # Ações a serem implementadadas aos problemas de Cancelamentos\n",
    "\n",
    "## Não contratar planos mensais , somente trimestrais e anuais. Cancelamento é reduzido para 10%.\n",
    "import plotly.express as px\n",
    "condicao = tabela[\"duracao_contrato\"]!=\"Monthly\"\n",
    "tabela = tabela[condicao]\n",
    "display(tabela[\"cancelou\"].value_counts())\n",
    "display(tabela[\"cancelou\"].value_counts(normalize=True).map(\"{:.1%}\".format))\n",
    "\n",
    "grafico = px.histogram(tabela, x=\"duracao_contrato\", color=\"cancelou\")\n",
    "grafico.show()\n",
    "\n",
    "## criar um processo para resolver o problema do cliente em no máximo 3 ligações ao call center\n",
    "condicao = tabela[\"ligacoes_callcenter\"]<=4\n",
    "tabela = tabela[condicao]\n",
    "display(tabela[\"cancelou\"].value_counts())\n",
    "display(tabela[\"cancelou\"].value_counts(normalize=True).map(\"{:.1%}\".format))\n",
    "\n",
    "grafico = px.histogram(tabela, x=\"ligacoes_callcenter\", color=\"cancelou\")\n",
    "grafico.show()\n",
    "\n",
    "## política de resolver atrasos em até 15 dias (equipe financeira)\n",
    "condicao = tabela[\"dias_atraso\"]<=20\n",
    "tabela = tabela[condicao]\n",
    "\n",
    "display(tabela[\"cancelou\"].value_counts())\n",
    "display(tabela[\"cancelou\"].value_counts(normalize=True).map(\"{:.1%}\".format))\n",
    "\n",
    "grafico = px.histogram(tabela, x=\"dias_atraso\", color=\"cancelou\")\n",
    "grafico.show()\n",
    "\n"
   ]
  }
 ],
 "metadata": {
  "kernelspec": {
   "display_name": "Python 3",
   "language": "python",
   "name": "python3"
  },
  "language_info": {
   "codemirror_mode": {
    "name": "ipython",
    "version": 3
   },
   "file_extension": ".py",
   "mimetype": "text/x-python",
   "name": "python",
   "nbconvert_exporter": "python",
   "pygments_lexer": "ipython3",
   "version": "3.13.1"
  },
  "orig_nbformat": 4
 },
 "nbformat": 4,
 "nbformat_minor": 2
}
